{
 "cells": [
  {
   "cell_type": "code",
   "execution_count": null,
   "metadata": {},
   "outputs": [],
   "source": []
  },
  {
   "cell_type": "markdown",
   "metadata": {},
   "source": [
    "Topological sort"
   ]
  },
  {
   "cell_type": "code",
   "execution_count": 10,
   "metadata": {},
   "outputs": [
    {
     "name": "stdout",
     "output_type": "stream",
     "text": [
      "Topological ordering: ['A', 'B', 'C', 'D', 'E', 'F']\n"
     ]
    }
   ],
   "source": [
    "from collections import defaultdict\n",
    "\n",
    "def topological_sort(graph):\n",
    "  \"\"\"\n",
    "  Performs topological sort on a DAG using Kahn's algorithm.\n",
    "\n",
    "  Args:\n",
    "      graph: A dictionary representing the adjacency list of the DAG.\n",
    "              Keys are vertices, values are lists of adjacent vertices.\n",
    "\n",
    "  Returns:\n",
    "      A list containing a valid topological ordering of the vertices,\n",
    "      or None if the graph has a cycle.\n",
    "  \"\"\"\n",
    "  in_degree = {u: 0 for u in graph}\n",
    "  for u, neighbors in graph.items():\n",
    "    for v in neighbors:\n",
    "      in_degree[v] += 1\n",
    "\n",
    "  queue = [u for u in graph if in_degree[u] == 0]  # Vertices with no incoming edges\n",
    "  sorted_order = []\n",
    "\n",
    "  while queue:\n",
    "    u = queue.pop(0)\n",
    "    sorted_order.append(u)\n",
    "    for v in graph[u]:\n",
    "      in_degree[v] -= 1\n",
    "      if in_degree[v] == 0:\n",
    "        queue.append(v)\n",
    "\n",
    "  if len(sorted_order) != len(graph):  # Check for a cycle\n",
    "    return None\n",
    "\n",
    "  return sorted_order\n",
    "\n",
    "# Example usage\n",
    "graph = {\n",
    "    'A': ['C'],\n",
    "    'B': ['C', 'D'],\n",
    "    'C': ['E'],\n",
    "    'D': ['F'],\n",
    "    'E': [],\n",
    "    'F': []\n",
    "}\n",
    "\n",
    "sorted_vertices = topological_sort(graph)\n",
    "\n",
    "if sorted_vertices:\n",
    "  print(\"Topological ordering:\", sorted_vertices)\n",
    "else:\n",
    "  print(\"Graph has a cycle, topological sort not possible\")\n"
   ]
  },
  {
   "cell_type": "markdown",
   "metadata": {},
   "source": [
    "Depth-First Search (DFS)"
   ]
  },
  {
   "cell_type": "code",
   "execution_count": 14,
   "metadata": {},
   "outputs": [
    {
     "name": "stdout",
     "output_type": "stream",
     "text": [
      "DFS starting from 'A':\n",
      "A B D E F C \n"
     ]
    }
   ],
   "source": [
    "def dfs(graph, start_vertex):\n",
    "  \"\"\"\n",
    "  Performs Depth-First Search on a graph.\n",
    "\n",
    "  Args:\n",
    "      graph: A dictionary representing the adjacency list of the graph.\n",
    "              Keys are vertices, values are lists of adjacent vertices.\n",
    "      start_vertex: The vertex to start the exploration from.\n",
    "\n",
    "  Returns:\n",
    "      None\n",
    "  \"\"\"\n",
    "  visited = set()\n",
    "  \n",
    "  def dfs_helper(vertex):\n",
    "    visited.add(vertex)\n",
    "    print(vertex, end=' ')\n",
    "    for neighbor in graph[vertex]:\n",
    "      if neighbor not in visited:\n",
    "        dfs_helper(neighbor)\n",
    "\n",
    "  dfs_helper(start_vertex)\n",
    "\n",
    "# Example usage\n",
    "graph = {\n",
    "    'A': ['B', 'C'],\n",
    "    'B': ['D', 'E'],\n",
    "    'C': ['F'],\n",
    "    'D': [],\n",
    "    'E': ['F'],\n",
    "    'F': []\n",
    "}\n",
    "\n",
    "print(\"DFS starting from 'A':\")\n",
    "dfs(graph, 'A')\n",
    "print()  # Explore the graph starting from vertex \"A\"\n"
   ]
  },
  {
   "cell_type": "markdown",
   "metadata": {},
   "source": [
    "Kruskal's Algorithm"
   ]
  },
  {
   "cell_type": "code",
   "execution_count": 20,
   "metadata": {},
   "outputs": [
    {
     "name": "stdout",
     "output_type": "stream",
     "text": [
      "Minimum Spanning Tree (Kruskal's Algorithm):\n",
      "('A', 'D') - 1\n",
      "('B', 'C') - 1\n",
      "('C', 'D') - 1\n",
      "('C', 'E') - 5\n"
     ]
    }
   ],
   "source": [
    "class DisjointSet:\n",
    "    def __init__(self, vertices):\n",
    "        self.parent = {vertex: vertex for vertex in vertices}\n",
    "        self.rank = {vertex: 0 for vertex in vertices}\n",
    "\n",
    "    def find(self, vertex):\n",
    "        if self.parent[vertex] != vertex:\n",
    "            self.parent[vertex] = self.find(self.parent[vertex])\n",
    "        return self.parent[vertex]\n",
    "\n",
    "    def union(self, vertex1, vertex2):\n",
    "        root1 = self.find(vertex1)\n",
    "        root2 = self.find(vertex2)\n",
    "\n",
    "        if root1 != root2:\n",
    "            if self.rank[root1] < self.rank[root2]:\n",
    "                self.parent[root1] = root2\n",
    "            elif self.rank[root1] > self.rank[root2]:\n",
    "                self.parent[root2] = root1\n",
    "            else:\n",
    "                self.parent[root2] = root1\n",
    "                self.rank[root1] += 1\n",
    "\n",
    "\n",
    "def kruskal(graph):\n",
    "    edges = []\n",
    "    for vertex in graph:\n",
    "        for neighbor, weight in graph[vertex].items():\n",
    "            edges.append((vertex, neighbor, weight))\n",
    "    edges.sort(key=lambda x: x[2])  # Sort edges by weight\n",
    "\n",
    "    vertices = set()\n",
    "    for edge in edges:\n",
    "        vertices.add(edge[0])\n",
    "        vertices.add(edge[1])\n",
    "\n",
    "    mst = {}\n",
    "    disjoint_set = DisjointSet(vertices)\n",
    "\n",
    "    for edge in edges:\n",
    "        vertex1, vertex2, weight = edge\n",
    "        if disjoint_set.find(vertex1) != disjoint_set.find(vertex2):\n",
    "            disjoint_set.union(vertex1, vertex2)\n",
    "            mst[(vertex1, vertex2)] = weight\n",
    "\n",
    "    return mst\n",
    "\n",
    "\n",
    "graph = {\n",
    "    'A': {'B': 3, 'D': 1},\n",
    "    'B': {'A': 3, 'D': 3, 'C': 1},\n",
    "    'C': {'B': 1, 'D': 1, 'E': 5},\n",
    "    'D': {'A': 1, 'B': 3, 'C': 1},\n",
    "    'E': {'C': 5}\n",
    "}\n",
    "\n",
    "minimum_spanning_tree = kruskal(graph)\n",
    "print(\"Minimum Spanning Tree (Kruskal's Algorithm):\")\n",
    "for edge, weight in minimum_spanning_tree.items():\n",
    "    print(edge, \"-\", weight)\n"
   ]
  }
 ],
 "metadata": {
  "kernelspec": {
   "display_name": "Python 3.10.11 64-bit",
   "language": "python",
   "name": "python3"
  },
  "language_info": {
   "codemirror_mode": {
    "name": "ipython",
    "version": 3
   },
   "file_extension": ".py",
   "mimetype": "text/x-python",
   "name": "python",
   "nbconvert_exporter": "python",
   "pygments_lexer": "ipython3",
   "version": "3.10.11"
  },
  "orig_nbformat": 4,
  "vscode": {
   "interpreter": {
    "hash": "aee8b7b246df8f9039afb4144a1f6fd8d2ca17a180786b69acc140d282b71a49"
   }
  }
 },
 "nbformat": 4,
 "nbformat_minor": 2
}

{
 "cells": [
  {
   "cell_type": "code",
   "execution_count": 1,
   "metadata": {},
   "outputs": [
    {
     "name": "stdout",
     "output_type": "stream",
     "text": [
      "Shortest distances from node A :  {'A': 0, 'B': 1, 'C': 3, 'D': 4}\n"
     ]
    }
   ],
   "source": [
    "import heapq\n",
    "\n",
    "def dijkstra(graph, start):\n",
    "    # Initialize distances with infinity for all nodes except the start node\n",
    "    distances = {node: float('inf') for node in graph}\n",
    "    distances[start] = 0\n",
    "    \n",
    "    # Priority queue to store nodes with their tentative distances\n",
    "    pq = [(0, start)]\n",
    "    \n",
    "    while pq:\n",
    "        # Pop the node with the smallest tentative distance\n",
    "        current_distance, current_node = heapq.heappop(pq)\n",
    "        \n",
    "        # Check if this node's distance is already finalized\n",
    "        if current_distance > distances[current_node]:\n",
    "            continue\n",
    "        \n",
    "        # Update distances to neighbors if shorter path is found\n",
    "        for neighbor, weight in graph[current_node].items():\n",
    "            distance = current_distance + weight\n",
    "            if distance < distances[neighbor]:\n",
    "                distances[neighbor] = distance\n",
    "                heapq.heappush(pq, (distance, neighbor))\n",
    "    \n",
    "    return distances\n",
    "\n",
    "# Example graph represented as adjacency list\n",
    "graph = {\n",
    "    'A': {'B': 1, 'C': 4},\n",
    "    'B': {'A': 1, 'C': 2, 'D': 5},\n",
    "    'C': {'A': 4, 'B': 2, 'D': 1},\n",
    "    'D': {'B': 5, 'C': 1}\n",
    "}\n",
    "\n",
    "start_node = 'A'\n",
    "shortest_distances = dijkstra(graph, start_node)\n",
    "print(\"Shortest distances from node\", start_node, \": \", shortest_distances)\n"
   ]
  },
  {
   "cell_type": "code",
   "execution_count": 2,
   "metadata": {},
   "outputs": [
    {
     "name": "stdout",
     "output_type": "stream",
     "text": [
      "Shortest distances from node A :  {'A': 0, 'B': -1, 'C': 2, 'D': -2, 'E': 1}\n"
     ]
    }
   ],
   "source": [
    "def bellman_ford(graph, start):\n",
    "    # Step 1: Initialize distances with infinity for all nodes except the start node\n",
    "    distances = {node: float('inf') for node in graph}\n",
    "    distances[start] = 0\n",
    "    \n",
    "    # Step 2: Relax edges repeatedly\n",
    "    for _ in range(len(graph) - 1):\n",
    "        for node in graph:\n",
    "            for neighbor, weight in graph[node].items():\n",
    "                if distances[node] + weight < distances[neighbor]:\n",
    "                    distances[neighbor] = distances[node] + weight\n",
    "    \n",
    "    # Step 3: Check for negative cycles\n",
    "    for node in graph:\n",
    "        for neighbor, weight in graph[node].items():\n",
    "            if distances[node] + weight < distances[neighbor]:\n",
    "                raise ValueError(\"Graph contains a negative cycle\")\n",
    "    \n",
    "    return distances\n",
    "\n",
    "# Example graph represented as adjacency list\n",
    "graph = {\n",
    "    'A': {'B': -1, 'C': 4},\n",
    "    'B': {'C': 3, 'D': 2, 'E': 2},\n",
    "    'C': {},\n",
    "    'D': {'B': 1, 'C': 5},\n",
    "    'E': {'D': -3}\n",
    "}\n",
    "\n",
    "start_node = 'A'\n",
    "shortest_distances = bellman_ford(graph, start_node)\n",
    "print(\"Shortest distances from node\", start_node, \": \", shortest_distances)\n"
   ]
  },
  {
   "cell_type": "code",
   "execution_count": 4,
   "metadata": {},
   "outputs": [
    {
     "name": "stdout",
     "output_type": "stream",
     "text": [
      "Shortest distances between all pairs of nodes:\n",
      "[0, 5, 8, 9]\n",
      "[inf, 0, 3, 4]\n",
      "[inf, inf, 0, 1]\n",
      "[inf, inf, inf, 0]\n"
     ]
    }
   ],
   "source": [
    "def floyd_warshall(graph):\n",
    "    # Initialize distance matrix with infinity for unreachable pairs\n",
    "    n = len(graph)\n",
    "    distances = [[float('inf')] * n for _ in range(n)]\n",
    "    \n",
    "    # Initialize diagonal elements with 0 and existing edges with their weights\n",
    "    for i in range(n):\n",
    "        distances[i][i] = 0\n",
    "        for j in range(n):\n",
    "            if graph[i][j] != float('inf'):\n",
    "                distances[i][j] = graph[i][j]\n",
    "    \n",
    "    # Update distances using all intermediate nodes\n",
    "    for k in range(n):\n",
    "        for i in range(n):\n",
    "            for j in range(n):\n",
    "                if distances[i][k] + distances[k][j] < distances[i][j]:\n",
    "                    distances[i][j] = distances[i][k] + distances[k][j]\n",
    "    \n",
    "    return distances\n",
    "\n",
    "# Example graph represented as adjacency matrix\n",
    "graph = [\n",
    "    [0, 5, float('inf'), 10],\n",
    "    [float('inf'), 0, 3, float('inf')],\n",
    "    [float('inf'), float('inf'), 0, 1],\n",
    "    [float('inf'), float('inf'), float('inf'), 0]\n",
    "]\n",
    "\n",
    "all_pairs_shortest_distances = floyd_warshall(graph)\n",
    "print(\"Shortest distances between all pairs of nodes:\")\n",
    "for row in all_pairs_shortest_distances:\n",
    "    print(row)\n"
   ]
  }
 ],
 "metadata": {
  "kernelspec": {
   "display_name": "Python 3.10.11 64-bit",
   "language": "python",
   "name": "python3"
  },
  "language_info": {
   "codemirror_mode": {
    "name": "ipython",
    "version": 3
   },
   "file_extension": ".py",
   "mimetype": "text/x-python",
   "name": "python",
   "nbconvert_exporter": "python",
   "pygments_lexer": "ipython3",
   "version": "3.10.11"
  },
  "orig_nbformat": 4,
  "vscode": {
   "interpreter": {
    "hash": "aee8b7b246df8f9039afb4144a1f6fd8d2ca17a180786b69acc140d282b71a49"
   }
  }
 },
 "nbformat": 4,
 "nbformat_minor": 2
}
